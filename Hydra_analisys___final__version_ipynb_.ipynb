{
  "cells": [
    {
      "cell_type": "code",
      "execution_count": 1,
      "metadata": {
        "id": "oOVuV76c67Fo"
      },
      "outputs": [],
      "source": [
        "from numpy  import*\n",
        "import matplotlib.pyplot as plt\n",
        "import matplotlib.font_manager as fm,os\n",
        "import matplotlib.patches as mpatches\n",
        "import matplotlib.lines as mlines\n",
        "from scipy.integrate import odeint\n",
        "from scipy import linalg\n",
        "import time\n",
        "from numpy.linalg import det, inv, svd, norm\n",
        "import numpy as np\n",
        "\n",
        "def Runge_Kutta(to, tEnd, yo, tau, f, p):\n",
        "          def increment(f, t, y, tau, p):\n",
        "                    k1=tau*f(t,y, p)\n",
        "                    k2=tau*f(t+(1/4)*tau,y+(1/4)*k1, p)\n",
        "                    k3 =tau *f(t+(3/8)*tau,y+(3/32)*k1+(9/32)*k2, p)\n",
        "                    k4=tau*f(t+(12/13)*tau,y+(1932/2197)*k1-(7200/2197)*k2+(7296/2197)*k3, p)\n",
        "                    k5=tau*f(t+tau,y+(439/216)*k1-8*k2+(3680/513)*k3 -(845/4104)*k4, p)\n",
        "                    k6=tau*f(t+(1/2)*tau,y-(8/27)*k1+2*k2-(3544/2565)*k3 +(1859/4104)*k4-(11/40)*k5, p)\n",
        "                    return (16/135)*k1+(6656/12825)*k3+(28561/56430)*k4-(9/50)*k5+(2/55)*k6ghfhf\n",
        "          y = [yo]\n",
        "          while True:\n",
        "            if tau > 0:\n",
        "              tau = min(tau, tEnd - to)\n",
        "            else:\n",
        "              tau = max(tau, tEnd-to)\n",
        "            to = to + tau\n",
        "            if to == tEnd:\n",
        "              break\n",
        "            yo = yo + increment(f, to, yo, tau, p)\n",
        "            y.append(yo)\n",
        "          return array(y)\n",
        "\n",
        "def hydra_function(t, y, lambda_):\n",
        "  #p_ext = 1.013250\n",
        "  #R = 0.098   # R_a из записей\n",
        "  #T = 0.8 # взял период в 1 секунду\n",
        "  #C = 0.08  #c_a\n",
        "  #I = 4.64    # I_a\n",
        "  #V0 = 87  #см**3 из записей\n",
        "  #heart_delta_p = 0.3\n",
        "\n",
        "  # средняя скорость крови в крупных сосудах(V') = 20см/c\n",
        "\n",
        "  # граничные условия(сумма масс и Бернулли)\n",
        "  # сумма масс: выход из одного сосуда равен входу в другой sum(v') = 0    eps-константа для размерности (пока V0 у всех одинаковая, eps=1)\n",
        "  # eps1 * f[1] + eps2 * f[3] = 0\n",
        "\n",
        "  # бернулли:\n",
        "  #q - плотность\n",
        "  # moment1 =  y[0]**2/2 + p_k/q     # из записей для 2 сосуда\n",
        "  # moment2 =  y[2]**2/2 + p_k/q     # из записей для 1 сосуда\n",
        "  # eps1 * moment1 + eps2 * moment2 = 0\n",
        "\n",
        "  f = np.zeros(4)\n",
        "  #y[0] = V_1\n",
        "  #y[1] = V_1'\n",
        "  #y[2] = V_2\n",
        "  #y[3] = V_2'\n",
        "\n",
        "  # пусть первый сосуд - сердце\n",
        "  #c1 = 0.2\n",
        "  #c2 = 0.25\n",
        "  #r1 = 0.25\n",
        "  #r2 = 0.3\n",
        "  #I = 0.00003\n",
        "  #I = 4.64\n",
        "  p_ext = 0.001\n",
        "  #T = 2.1\n",
        "  V0=87\n",
        "\n",
        "\n",
        "\n",
        "#\n",
        "  #c1,r1,I,T = [0.47,0.61,0.62,1]\n",
        "  c1,r1,I,T = [3,lambda_,3,1]\n",
        "\n",
        "\n",
        "  c2=c1\n",
        "  r2=r1\n",
        "  #I2=I1 \n",
        "\n",
        "#\n",
        "\n",
        "  #print('a',-r1*T/I*y[1])\n",
        "  #print('b', -T**2/(c2*I)*y[0])\n",
        "  #print('c', T**2*p_ext/(I*V0))\n",
        "  f[0] = y[1]                                                 # первая производная V для 1 сосуда\n",
        "\n",
        "  f[1] = round(-r1*T/I*y[1] - T**2/(c1*I)*y[0] + T**2*p_ext/(I*V0),100)   # 2 производная V для 1 сосуда\n",
        "\n",
        "  f[2] = y[3]                                                 # первая производная V для 2 сосуда\n",
        "\n",
        "  f[3] = round(-r2*T/I*y[3] - T**2/(c2*I)*y[2] + T**2*p_ext/(I*V0),100)   # 2 производная V для 2 сосуда\n",
        "\n",
        "  #print('y', y)\n",
        "  #print('f',f)\n",
        "  return f\n",
        "\n",
        "\n",
        "def initial_checker_for_hydra(y_all,lambda_):\n",
        "  left = y_all[0]\n",
        "  right = y_all[-1]\n",
        "  eps1 = 1\n",
        "  eps2 = 0.5\n",
        "  p_k = 0.1\n",
        "  q = 0.1\n",
        "  # eps1 и eps2 - коэффициенты, размера сосуда(чтобы скорость поток считалась одинаково)\n",
        "\n",
        "  residuals = []\n",
        "\n",
        "\n",
        "  # ВАЖНО (тут наработки Виты)                                                  !!!!!!!!!!!!!!!!!!!!!!!!!!!!!!!!!!!!!!!!!!!!!!!!!!!!!!!!!!!!!!!!!!!!!!!!!!!!!!!!!!!!!!!!!!!!!!!!!!!!!!!!!!!!!!!!\n",
        "  #p_ext = lambda_\n",
        "  p_ext = 0.001\n",
        "\n",
        "\n",
        "  #c1 =0.2\n",
        "  #c2=0.25\n",
        "  s1=265 \n",
        "  s2=300\n",
        "\n",
        "  #s1=0.26\n",
        "  #s2=0.3\n",
        "  #T=2.1\n",
        "\n",
        "  #c1 = 0.47\n",
        "  #r1 = 0.61\n",
        "  #I = 0.62\n",
        "  #T = 1\n",
        "\n",
        "  #c1,r1,I,T = [0.47,0.61,0.62,1]\n",
        "  c1,r1,I,T = [3,lambda_,3,1]\n",
        "\n",
        "  c2=c1\n",
        "  r2=r1\n",
        "\n",
        "\n",
        "  # Сохранение масс\n",
        "  #residuals.append(2650*right[1] - 3000*left[3])\n",
        "  #residuals.append(2650*left[1] - 3000*right[3])\n",
        "\n",
        "  # Бернулли\n",
        "  #residuals.append((2650*right[1] / sqrt(2)/T/s1)**2 + right[0]/c1 - (3000*left[3]/sqrt(2)/T/s2)**2 - left[2]/c2)\n",
        "  #residuals.append((2650*left[1] / sqrt(2)/T/s1)**2 + left[0]/c1 - (3000*right[3]/sqrt(2)/T/s2)**2 - right[2]/c2 - p_ext)\n",
        "\n",
        "\n",
        "  # Сохранение масс\n",
        "  residuals.append(right[1] - left[3])\n",
        "  residuals.append(left[1] - right[3])\n",
        "\n",
        "  # Бернулли\n",
        "  residuals.append((right[1] / sqrt(2)/T/s1)**2 + right[0]/c1 - (left[3]/sqrt(2)/T/s2)**2 - left[2]/c2)\n",
        "  residuals.append((left[1] / sqrt(2)/T/s1)**2 + left[0]/c1 - (right[3]/sqrt(2)/T/s2)**2 - right[2]/c2 - p_ext)\n",
        "\n",
        "\n",
        "  return np.array(residuals)"
      ]
    },
    {
      "cell_type": "code",
      "execution_count": 2,
      "metadata": {
        "id": "yjEcIbfz2iCN"
      },
      "outputs": [],
      "source": [
        "graph_nodes = []\n",
        "Frech_dets = []\n",
        "eigenvals = []"
      ]
    },
    {
      "cell_type": "code",
      "execution_count": 2,
      "metadata": {
        "id": "jN6aY3e07DR7"
      },
      "outputs": [],
      "source": []
    },
    {
      "cell_type": "code",
      "execution_count": 3,
      "metadata": {
        "id": "uNnTZ0hh1u18"
      },
      "outputs": [],
      "source": [
        "def drop_parameter(arr, idx):               # временно удаляет один параметр\n",
        "  #return np.concatenate([arr[:idx], arr[idx + 1:]])\n",
        "  return np.delete(arr, idx)\n"
      ]
    },
    {
      "cell_type": "code",
      "execution_count": 4,
      "metadata": {
        "id": "tW_3YgOz7hQ4"
      },
      "outputs": [],
      "source": [
        "def shooting(stepping_param_idx, approx,                                                                     #!!!!!!!!!!!!!   ОТРЕДАЧИТЬ ЭТУ ЯЧЕЙКУ !!!!!!!!!!!!!!!!  сделать p не отдельной переменной, а последним элементом approx\n",
        "              func,\n",
        "              left,\n",
        "              right,\n",
        "              step,\n",
        "              bc,\n",
        "              eps=1e-4):\n",
        "  steps = 0\n",
        "  frech_ans = 1e9\n",
        "  while(True):\n",
        "        y = np.concatenate((Runge_Kutta((right + left) / 2, left, drop_parameter(approx, len(approx) - 1), -step, func, approx[-1])[::-1],\n",
        "                             Runge_Kutta((right + left) / 2, right, drop_parameter(approx, len(approx) - 1), step, func, approx[-1])[1:]))\n",
        "        ys = y\n",
        "        residuals = bc(y,approx[-1])\n",
        "        #print(f'residuals {steps}', residuals)\n",
        "        if (np.abs(residuals) < eps).all():\n",
        "          #print('max', max(residuals))\n",
        "          break\n",
        "        steps += 1\n",
        "        F = np.zeros((len(approx) - 1, len(approx)))\n",
        "        #метод Ньютона\n",
        "        for i in range(len(approx)):\n",
        "            if i == stepping_param_idx:\n",
        "              continue\n",
        "            y_approx = approx.copy()\n",
        "            y_approx[i] += eps\n",
        "            y_i = np.concatenate((Runge_Kutta((right + left) / 2, left, drop_parameter(y_approx, len(y_approx) - 1), -step, func, y_approx[-1])[::-1],\n",
        "                                  Runge_Kutta((right + left) / 2, right, drop_parameter(y_approx, len(y_approx) - 1), step, func, y_approx[-1])[1:]))\n",
        "            residuals_i = bc(y_i, approx[-1])\n",
        "            \n",
        "            F[:, i] = (residuals_i - residuals) / eps\n",
        "\n",
        "        F = np.delete(F, stepping_param_idx, axis=1)\n",
        "        frech_ans = np.linalg.det(F)              # определитель Фреше\n",
        "\n",
        "        if np.linalg.det(F) == 0 or steps >= 6:      # настроил max step 6\n",
        "            print('определитель матрицы фреше равен 0')\n",
        "            return False, steps, ys, approx, frech_ans\n",
        "\n",
        "        res = np.dot(np.linalg.inv(F), residuals)\n",
        "        res = np.insert(res, stepping_param_idx, 0)\n",
        "        approx = approx - res\n",
        "\n",
        "        #for i in range(len(approx)):\n",
        "        #  approx[params_idxs[i]] -= matrix_step[i]            # без цикла возможно  approx[params_idxs] -= matrix_step     , но надо проверить, что данные изменяется approx\n",
        "\n",
        "        # конец метода Ньютона\n",
        "\n",
        "        ys = np.concatenate((Runge_Kutta((right + left) / 2, left, drop_parameter(approx, len(approx) - 1), -step, func, approx[-1])[::-1],\n",
        "                      Runge_Kutta((right + left) / 2, right, drop_parameter(approx, len(approx) - 1), step, func, approx[-1])[1:]))\n",
        "        \n",
        "  if steps>0:\n",
        "    eigenvals.append(np.linalg.eig(F)[0][-2:])\n",
        "  else:\n",
        "    eigenvals.append(np.zeros(2))    \n",
        "  return True, steps, ys, approx, frech_ans"
      ]
    },
    {
      "cell_type": "code",
      "execution_count": 5,
      "metadata": {
        "id": "UUurgL2Q7LIc"
      },
      "outputs": [],
      "source": [
        "def parameter_move(stepping_param_idx, approx, step):                 #добавить параметр step, который будет браться из функции parameter_change (он не обязательно положительный и не обязательно большой)                                         #!!!!!!!!!!!!!   ОТРЕДАЧИТЬ ЭТУ ЯЧЕЙКУ !!!!!!!!!!!!!!!!  сделать p по индексу а не по значению\n",
        "  previous_approximation = np.zeros(approx.shape)\n",
        "  last_approximation = np.zeros(approx.shape)\n",
        "  #print('last', last_approximation)\n",
        "  # начальный параметр(например давление) p\n",
        "  \n",
        "  #approx[stepping_param_idx] -= step\n",
        "  steps_streak=0\n",
        "  max_steps_streak=0\n",
        "  is_inf = False\n",
        "  first_step=True \n",
        "  \n",
        "  while abs(step) > 1e-3:\n",
        "\n",
        "    print('step', step)\n",
        "    print('shoot', approx[stepping_param_idx] + step)\n",
        "\n",
        "    approx_try = approx.copy()                                  #пробуем увеличить approx, если Ньютон не сойдется, то вернем обратно\n",
        "    approx_try[stepping_param_idx] += step\n",
        "\n",
        "    shoot = shooting(stepping_param_idx, approx = approx_try,\n",
        "                     func = hydra_function, left = 0, right = 1,\n",
        "                     step = 0.01,\n",
        "                     bc = initial_checker_for_hydra)      # метод пристрелки\n",
        "    print(shoot[0], shoot[1], shoot[3], '\\n')\n",
        "\n",
        "    #if steps_streak > 20 and step > 5:\n",
        "    #  is_inf = True\n",
        "    #  break\n",
        "\n",
        "    if shoot[0]:    # если не критическая точка\n",
        "      #if shoot[1] < 3 and step < 0.05:\n",
        "      #if step < 0.05:\n",
        "      step *= 1.2\n",
        "\n",
        "      steps_streak += 1\n",
        "      previous_approximation = last_approximation\n",
        "      approx = shoot[3]\n",
        "      graph_nodes.append(approx)\n",
        "      Frech_dets.append(shoot[4])\n",
        "      last_approximation = approx\n",
        "\n",
        "    else:\n",
        "      step /= 2\n",
        "      steps_streak = 0\n",
        "\n",
        "  if not is_inf:\n",
        "    print('предельная точка', approx[stepping_param_idx])\n",
        "\n",
        "  #is_inf - уходим ли мы в бесконечность\n",
        "\n",
        "  return stepping_param_idx , np.array(last_approximation - previous_approximation), is_inf, approx"
      ]
    },
    {
      "cell_type": "code",
      "execution_count": 6,
      "metadata": {
        "id": "3fxYbhZP7m6v"
      },
      "outputs": [],
      "source": [
        "def parameter_change(stepping_param_idx, diff, approx):                                                            #!!!!!!!!!!!!!   ОТРЕДАЧИТЬ ЭТУ ЯЧЕЙКУ !!!!!!!!!!!!!!!!  сделать p по индексу а не по значению\n",
        "  # diff - массив разностей параметров на последнем шаге\n",
        "  #print('diff')\n",
        "  #print(stepping_param_idx)\n",
        "    #max_idx = np.argmax(drop_parameter(diff, stepping_param_idx))\n",
        "  max_idx=0\n",
        "  max1=0\n",
        "  for i in range(len(diff)):\n",
        "    if i != stepping_param_idx and abs(diff[i]) > max1:\n",
        "      max1 = abs(diff[i])\n",
        "      max_idx = i\n",
        "  print('diff', diff)\n",
        "  stepping_param_idx = max_idx\n",
        "  print('new param', stepping_param_idx)\n",
        "  new_step = sign(diff[max_idx])*0.01\n",
        "  print('new_step', new_step)\n",
        "  return stepping_param_idx, new_step\n",
        "  # выбирать максимальны быстрорастущий, если хотим просто строить, или выбирать все по очереди, если хотим построить все ветви (рекурсия)"
      ]
    },
    {
      "cell_type": "code",
      "execution_count": 7,
      "metadata": {
        "id": "DsxLFNSe7aI5"
      },
      "outputs": [],
      "source": [
        "def branches_search(stepping_param_idx, approx):\n",
        "  step = 0.01\n",
        "  while 1 == 1:\n",
        "    stepping_param_idx, diff, is_inf, approx = parameter_move(stepping_param_idx, approx, step)\n",
        "    if is_inf:\n",
        "      break\n",
        "    print('Смена параметра')\n",
        "    stepping_param_idx, step = parameter_change(stepping_param_idx, diff, approx)\n",
        "    print('approx', approx)\n",
        "    # branches_search(p, approx) если строим рекурсивно все ветви"
      ]
    },
    {
      "cell_type": "code",
      "execution_count": null,
      "metadata": {
        "id": "Z2DK41a57dY1"
      },
      "outputs": [],
      "source": [
        "approx = np.zeros(5)\n",
        "#approx[0] = 0.84740926\n",
        "#approx[1] = -1.28941452\n",
        "approx[4] = 0.6\n",
        "#\n",
        "branches_search(len(approx) - 1, approx)"
      ]
    },
    {
      "cell_type": "code",
      "execution_count": null,
      "metadata": {
        "id": "illwjY1I7S_D"
      },
      "outputs": [],
      "source": [
        "graph_nodes = np.array(graph_nodes)\n",
        "plt.plot(graph_nodes[:,0], graph_nodes[:,-1])\n",
        "plt.xlabel('u')\n",
        "plt.ylabel('lambda')\n",
        "plt.show()\n"
      ]
    },
    {
      "cell_type": "code",
      "execution_count": null,
      "metadata": {
        "id": "0Ps7nWYt6--u"
      },
      "outputs": [],
      "source": [
        "Frech_dets = np.array(Frech_dets)\n",
        "plt.plot(graph_nodes[:,-1], Frech_dets)\n",
        "plt.xlabel('lambda')\n",
        "plt.ylabel('Frech_det')"
      ]
    },
    {
      "cell_type": "code",
      "execution_count": null,
      "metadata": {
        "id": "32Ug4etf4ADN"
      },
      "outputs": [],
      "source": [
        "Frech_dets = np.array(Frech_dets)\n",
        "plt.plot(graph_nodes[:,0], Frech_dets)\n",
        "plt.xlabel('u')\n",
        "plt.ylabel('Freche det')"
      ]
    },
    {
      "cell_type": "code",
      "source": [
        "Frech_dets"
      ],
      "metadata": {
        "id": "PAH8r0_wEQS5"
      },
      "execution_count": null,
      "outputs": []
    },
    {
      "cell_type": "code",
      "execution_count": null,
      "metadata": {
        "id": "Wnj7APfc4kfQ"
      },
      "outputs": [],
      "source": [
        "eigenvals = np.array(eigenvals)"
      ]
    },
    {
      "cell_type": "code",
      "execution_count": null,
      "metadata": {
        "id": "1QcGE-RpA9Ul"
      },
      "outputs": [],
      "source": [
        "plt.plot(graph_nodes[:,0], eigenvals[:,0])\n",
        "plt.plot(graph_nodes[:,0], eigenvals[:,1])"
      ]
    },
    {
      "cell_type": "code",
      "execution_count": null,
      "metadata": {
        "colab": {
          "base_uri": "https://localhost:8080/"
        },
        "id": "KeMLbqRsIFlp",
        "outputId": "638c0d57-83ba-4f73-d77d-be75b9923677"
      },
      "outputs": [
        {
          "data": {
            "text/plain": [
              "(5001, 2)"
            ]
          },
          "execution_count": 304,
          "metadata": {},
          "output_type": "execute_result"
        }
      ],
      "source": []
    },
    {
      "cell_type": "code",
      "execution_count": null,
      "metadata": {
        "id": "dIdJuf1yIM8d"
      },
      "outputs": [],
      "source": [
        "eigenvals"
      ]
    },
    {
      "cell_type": "code",
      "execution_count": null,
      "metadata": {
        "id": "aQ8c9unqgwtk",
        "colab": {
          "base_uri": "https://localhost:8080/"
        },
        "outputId": "5099157d-6a60-4b68-aef2-586f1e49454e"
      },
      "outputs": [
        {
          "output_type": "stream",
          "name": "stdout",
          "text": [
            "27.84246265278407\n",
            "0.61\n"
          ]
        }
      ],
      "source": [
        "c1,r1,I,T = [0.47,0.61,0.62,1]\n",
        "print((4*I/c1)**2)\n",
        "print(r1)"
      ]
    },
    {
      "cell_type": "code",
      "source": [],
      "metadata": {
        "id": "KS3R1pLf-0DX"
      },
      "execution_count": null,
      "outputs": []
    }
  ],
  "metadata": {
    "colab": {
      "provenance": []
    },
    "kernelspec": {
      "display_name": "Python 3",
      "name": "python3"
    },
    "language_info": {
      "name": "python"
    }
  },
  "nbformat": 4,
  "nbformat_minor": 0
}
