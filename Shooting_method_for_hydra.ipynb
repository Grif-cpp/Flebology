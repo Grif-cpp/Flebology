{
  "nbformat": 4,
  "nbformat_minor": 0,
  "metadata": {
    "colab": {
      "provenance": []
    },
    "kernelspec": {
      "name": "python3",
      "display_name": "Python 3"
    },
    "language_info": {
      "name": "python"
    }
  },
  "cells": [
    {
      "cell_type": "markdown",
      "source": [
        "# Рунге-Кутта"
      ],
      "metadata": {
        "id": "MW4-qUQwKeq0"
      }
    },
    {
      "cell_type": "code",
      "source": [
        "from numpy  import*\n",
        "import matplotlib.pyplot as plt\n",
        "import matplotlib.font_manager as fm,os\n",
        "import matplotlib.patches as mpatches\n",
        "import matplotlib.lines as mlines\n",
        "from scipy.integrate import odeint\n",
        "from scipy import linalg\n",
        "import time\n",
        "from numpy.linalg import det, inv, svd, norm\n",
        "import numpy as np\n",
        "\n",
        "def Runge_Kutta(to, tEnd, yo, tau, f):\n",
        "          def increment(f, t, y, tau):\n",
        "                    k1=tau*f(t,y)\n",
        "                    k2=tau*f(t+(1/4)*tau,y+(1/4)*k1)\n",
        "                    k3 =tau *f(t+(3/8)*tau,y+(3/32)*k1+(9/32)*k2)\n",
        "                    k4=tau*f(t+(12/13)*tau,y+(1932/2197)*k1-(7200/2197)*k2+(7296/2197)*k3)\n",
        "                    k5=tau*f(t+tau,y+(439/216)*k1-8*k2+(3680/513)*k3 -(845/4104)*k4)\n",
        "                    k6=tau*f(t+(1/2)*tau,y-(8/27)*k1+2*k2-(3544/2565)*k3 +(1859/4104)*k4-(11/40)*k5)\n",
        "                    #print('ks',k1,k2,k3,k4,k5,k6)\n",
        "                    return (16/135)*k1+(6656/12825)*k3+(28561/56430)*k4-(9/50)*k5+(2/55)*k6\n",
        "          y = [yo]\n",
        "          while True:\n",
        "            if tau > 0:\n",
        "              tau = min(tau, tEnd - to)\n",
        "            else:\n",
        "              tau = max(tau, tEnd-to)\n",
        "            to = to + tau\n",
        "            if to == tEnd:\n",
        "              break\n",
        "            yo = yo + increment(f, to, yo, tau)\n",
        "            y.append(yo)\n",
        "          return array(y)"
      ],
      "metadata": {
        "id": "uM8mt8DFGEMy"
      },
      "execution_count": null,
      "outputs": []
    },
    {
      "cell_type": "markdown",
      "source": [
        "# Метод стрельбы"
      ],
      "metadata": {
        "id": "Mmz_oaHoKnCF"
      }
    },
    {
      "cell_type": "code",
      "execution_count": null,
      "metadata": {
        "id": "1_iflAmXFHdr"
      },
      "outputs": [],
      "source": [
        "def shooting(approx, func, left, right, step, params, bc, eps=1e-4):\n",
        "  steps = 0\n",
        "  while(True):\n",
        "        y = np.concatenate((Runge_Kutta((right + left) / 2, left, approx, -step, func)[::-1],\n",
        "                             Runge_Kutta((right + left) / 2, right, approx, step, func)[1:]))\n",
        "        #plt.plot(y[:,0])\n",
        "        ys=y\n",
        "        residuals = bc(y,params)\n",
        "        print(f'residuals {steps}', residuals)\n",
        "        if (np.abs(residuals) < eps).all():\n",
        "          print('max', max(residuals))\n",
        "          break\n",
        "        steps += 1\n",
        "        F = np.zeros((len(approx), len(approx)))\n",
        "\n",
        "        for i in range(len(approx)):\n",
        "            y_approx = approx.copy()\n",
        "            y_approx[i] += eps\n",
        "            #print('y_app', y_approx)\n",
        "            y_i = np.concatenate((Runge_Kutta((right + left) / 2, left, y_approx, -step, func)[::-1],\n",
        "                                  Runge_Kutta((right + left) / 2, right, y_approx, step, func)[1:]))\n",
        "            #print('y_i', y_i)\n",
        "            residuals_i = bc(y_i, params)\n",
        "            #print('i',residuals_i)\n",
        "            F[:, i] = (residuals_i - residuals) / eps\n",
        "        if np.linalg.det(F) == 0:\n",
        "            print('определитель матрицы фреше равен 0')\n",
        "            return steps, ys\n",
        "        approx = approx - np.dot(np.linalg.inv(F), residuals)\n",
        "\n",
        "        ys = np.concatenate((Runge_Kutta((right + left) / 2, left, approx, -step, func)[::-1],\n",
        "                      Runge_Kutta((right + left) / 2, right, approx, step, func)[1:]))\n",
        "\n",
        "  return steps, ys"
      ]
    },
    {
      "cell_type": "markdown",
      "source": [
        "Напишем функцию для гидры(2 сосуда, 4 уравнения, 2 условия на массу, 2 условия на бернулли)"
      ],
      "metadata": {
        "id": "8xU8DbUTGOFl"
      }
    },
    {
      "cell_type": "code",
      "source": [
        "def hydra_function(t, y):\n",
        "  #p_ext = 1.013250\n",
        "  #R = 0.098   # R_a из записей\n",
        "  #T = 0.8 # взял период в 1 секунду\n",
        "  #C = 0.08  #c_a\n",
        "  #I = 4.64    # I_a\n",
        "  #V0 = 87  #см**3 из записей\n",
        "  #heart_delta_p = 0.3\n",
        "\n",
        "  # средняя скорость крови в крупных сосудах(V') = 20см/c\n",
        "\n",
        "  # граничные условия(сумма масс и Бернулли)\n",
        "  # сумма масс: выход из одного сосуда равен входу в другой sum(v') = 0    eps-константа для размерности (пока V0 у всех одинаковая, eps=1)\n",
        "  # eps1 * f[1] + eps2 * f[3] = 0\n",
        "\n",
        "  # бернулли:\n",
        "  #q - плотность\n",
        "  # moment1 =  y[0]**2/2 + p_k/q     # из записей для 2 сосуда\n",
        "  # moment2 =  y[2]**2/2 + p_k/q     # из записей для 1 сосуда\n",
        "  # eps1 * moment1 + eps2 * moment2 = 0\n",
        "\n",
        "  f = np.zeros(4)\n",
        "  #y[0] = V_1\n",
        "  #y[1] = V_1'\n",
        "  #y[2] = V_2\n",
        "  #y[3] = V_2'\n",
        "\n",
        "  # пусть первый сосуд - сердце\n",
        "  c1 = 0.2\n",
        "  c2 = 0.25\n",
        "  r1 = 0.25\n",
        "  r2 = 0.3\n",
        "  #I = 0.00003\n",
        "  I = 4.64\n",
        "  p_ext = 0.001\n",
        "  T = 2.1\n",
        "  V0=87\n",
        "  #print('a',-r1*T/I)\n",
        "  #print('b', T**2/(c2*I))\n",
        "  #print('c', T**2*p_ext/(I*V0))\n",
        "\n",
        "  f[0] = y[1]                                                 # первая производная V для 1 сосуда\n",
        "\n",
        "  f[1] = -r1*T/I*y[1] - T**2/(c1*I)*y[0] + T**2*p_ext/(I*V0)   # 2 производная V для 1 сосуда\n",
        "\n",
        "  f[2] = y[3]                                                 # первая производная V для 2 сосуда\n",
        "\n",
        "  f[3] = -r2*T/I*y[3] - T**2/(c2*I)*y[2] + T**2*p_ext/(I*V0)   # 2 производная V для 2 сосуда\n",
        "\n",
        "  #print('y', y)\n",
        "  #print('f',f)\n",
        "  return f"
      ],
      "metadata": {
        "id": "9K4aXAxOQGhA"
      },
      "execution_count": null,
      "outputs": []
    },
    {
      "cell_type": "code",
      "source": [
        "def initial_checker_for_hydra(y_all, bc_params):\n",
        "  left = y_all[0]\n",
        "  right = y_all[-1]\n",
        "  eps1 = 1\n",
        "  eps2 = 0.5\n",
        "  p_k = 0.1\n",
        "  q = 0.1\n",
        "  heart_delta_p = 0.3  # число из головы\n",
        "  # eps1 и eps2 - коэффициенты, размера сосуда(чтобы скорость поток считалась одинаково)\n",
        "\n",
        "  residuals = []\n",
        "\n",
        "\n",
        "  # ВАЖНО (тут наработки Виты)                                                  !!!!!!!!!!!!!!!!!!!!!!!!!!!!!!!!!!!!!!!!!!!!!!!!!!!!!!!!!!!!!!!!!!!!!!!!!!!!!!!!!!!!!!!!!!!!!!!!!!!!!!!!!!!!!!!!\n",
        "  p_ext = 0\n",
        "  c1 =0.2\n",
        "  c2=0.25\n",
        "  s1=265 \n",
        "  s2=300\n",
        "\n",
        "  # Сохранение масс\n",
        "  residuals.append(2650*right[1] - 3000*left[3])\n",
        "  residuals.append(2650*left[1] - 3000*right[3])\n",
        "\n",
        "  # Бернулли\n",
        "  residuals.append((2650*right[1] / sqrt(2)/2.1/s1)**2 + right[0]/c1 - (3000*left[3]/sqrt(2)/2.1/s2)**2 - left[2]/c2)\n",
        "  residuals.append((2650*left[1] / sqrt(2)/2.1/s1)**2 + left[0]/c1 - (3000*right[3]/sqrt(2)/2.1/s2)**2 - right[2]/c2 - p_ext)\n",
        "\n",
        "  return np.array(residuals)"
      ],
      "metadata": {
        "id": "TyIb-r4BQXbw"
      },
      "execution_count": null,
      "outputs": []
    },
    {
      "cell_type": "code",
      "source": [
        "# В init записываем граничные условия\n",
        "# init = [сумма масс1, Бернулли1, сумма масс2, Бернулли2]\n",
        "# первые 2 точки в начале, 3 и 4 в конце\n",
        "\n",
        "params = []\n",
        "approx = [0, 0, 0, 0]\n",
        "step = 0.01\n",
        "steps, y= shooting(approx, hydra_function,\n",
        "                   left = 0, right = 1 + step, step = step,\n",
        "                   params=params, bc = initial_checker_for_hydra)\n",
        "print('num_steps ', steps)"
      ],
      "metadata": {
        "id": "WDZd0_tMQKd9",
        "colab": {
          "base_uri": "https://localhost:8080/"
        },
        "outputId": "decdd05b-3394-4aa4-848b-d3adece06f47"
      },
      "execution_count": null,
      "outputs": [
        {
          "output_type": "stream",
          "name": "stdout",
          "text": [
            "y [ 1.25875410e-06 -4.57128628e-06  1.28932029e-06 -4.79829112e-06]\n",
            "y [1.21310864e-06 4.31985290e-06 1.23318192e-06 4.48335615e-06]\n",
            "residuals 0 [ 2.58424835e-02 -2.55639771e-02  9.08212579e-07  1.36105183e-06]\n",
            "y [ 2.29857435e-06 -3.64948565e-10  2.87362221e-06  5.93203204e-10]\n",
            "y [ 2.29886435e-06  6.71550797e-10  2.87380905e-06 -3.22371233e-10]\n",
            "residuals 1 [ 2.09659713e-17  8.19758486e-18 -1.67077672e-10 -2.36445796e-09]\n",
            "max 2.0965971268675256e-17\n",
            "num_steps  1\n"
          ]
        }
      ]
    },
    {
      "cell_type": "code",
      "source": [
        "x = np.arange(0,1 + step,step)\n",
        "print(y[0])\n",
        "print(y[-1])\n",
        "print(y[0] - y[-1])\n",
        "fig, ax = plt.subplots(2,2,figsize=(6, 6))\n",
        "ax[0][0].plot(x, y[:,0], c='orange', label='y1')\n",
        "ax[0][1].plot(x, y[:,2], c='orange',label='y2')\n",
        "ax[1][0].plot(x, y[:,1], c='orange', label=\"y1'\")\n",
        "ax[1][1].plot(x, y[:,3], c='orange', label=\"y2'\")\n",
        "ax[0][0].legend()\n",
        "ax[0][1].legend()\n",
        "ax[1][0].legend()\n",
        "ax[1][1].legend()\n",
        "plt.show()\n",
        "#print(y)"
      ],
      "metadata": {
        "id": "2Yi2QxkEI2IO",
        "colab": {
          "base_uri": "https://localhost:8080/",
          "height": 589
        },
        "outputId": "58d971bb-7df0-4e5c-9e5c-4264da9306eb"
      },
      "execution_count": null,
      "outputs": [
        {
          "output_type": "stream",
          "name": "stdout",
          "text": [
            "[ 2.29857435e-06 -3.64948565e-10  2.87362221e-06  5.93203204e-10]\n",
            "[ 2.29886435e-06  6.71550797e-10  2.87380905e-06 -3.22371233e-10]\n",
            "[-2.90005329e-10 -1.03649936e-09 -1.86838410e-10  9.15574437e-10]\n"
          ]
        },
        {
          "output_type": "display_data",
          "data": {
            "text/plain": [
              "<Figure size 600x600 with 4 Axes>"
            ],
            "image/png": "[encoded data removed]"
          },
          "metadata": {}
        }
      ]
    },
    {
      "cell_type": "code",
      "source": [
        "plt.plot(y[:,0])\n",
        "print(y[0][0])\n",
        "print(y[0][0]/(y[0][0] - y[-1][0]))"
      ],
      "metadata": {
        "id": "Tj6bUCWSWDK6"
      },
      "execution_count": null,
      "outputs": []
    },
    {
      "cell_type": "code",
      "source": [
        "p_ext = 1.013250\n",
        "R = 0.098   # R_a из записей\n",
        "T = 1 # взял период в 1 секунду\n",
        "C = 0.000014  #c_a\n",
        "I = 4.64    # I_a\n",
        "V0 = 87  #см**3 из записей\n",
        "heart_delta_p = 0.3\n",
        "\n",
        "print('a', -R*T/I)\n",
        "print('b', -T**2/C/I)\n",
        "print('c',T**2 * p_ext/I/V0)"
      ],
      "metadata": {
        "id": "grtXbRf4WaO7"
      },
      "execution_count": null,
      "outputs": []
    },
    {
      "cell_type": "markdown",
      "source": [
        "Аналитическое решение"
      ],
      "metadata": {
        "id": "QpXtACv2EFO2"
      }
    },
    {
      "cell_type": "code",
      "source": [
        "a = -R*T/I\n",
        "b = -T**2/C/I\n",
        "c = T**2*p_ext/I/V0\n",
        "\n",
        "x = np.arange(0,1 + step,step)\n",
        "\n",
        "if b > -(a**2)/4:\n",
        "  # y1 = C1*e^(lambda1*x) + C2*e^(lambda2*x)\n",
        "  # y2 = C3*e^(lambda1*x) + C4*e^(lambda2*x)\n",
        "\n",
        "\n",
        "if b < -(a**2)/4:\n",
        "  # y1 = e^(alpha*x) * (C1*cos(beta*x) + C2*sin(beta*x))\n",
        "  # y2 = e^(alpha*x) * (C3*cos(beta*x) + C4*sin(beta*x))\n",
        "\n",
        "# y1' = y2'\n",
        "# y1[0] = y1_0\n",
        "# moment1 =\n",
        "# moment2 =\n",
        "# momoent1 = momoent2\n",
        "# y2[0] = y2_0\n"
      ],
      "metadata": {
        "id": "Sh5XhfxlcWM8"
      },
      "execution_count": null,
      "outputs": []
    },
    {
      "cell_type": "code",
      "source": [],
      "metadata": {
        "id": "BLtIDBXGtHsh"
      },
      "execution_count": null,
      "outputs": []
    },
    {
      "cell_type": "code",
      "source": [
        "'''def initial_checker_for_hydra(y_all, bc_params):\n",
        "  y_try1 = y_all[0]\n",
        "  y_try2 = y_all[-1]\n",
        "  y = y_all[0]\n",
        "  #y = np.concatenate((y_all[-1][:2], y_all[0][2:])     # возможно так\n",
        "  eps1 = 1\n",
        "  eps2 = 0.5\n",
        "  p_k = 0.1\n",
        "  q = 0.1\n",
        "  heart_delta_p = 0.3  # число из головы\n",
        "  # eps1 и eps2 - коэффициенты, размера сосуда(чтобы скорость поток считалась одинаково)\n",
        "    for i, ves in enumerate(Graph):\n",
        "        V_i = right[i][0]\n",
        "        Q_i = right[i][1]\n",
        "        moment_i = Q_i**2 / 2 / Sq[i]**2 + V_i / Ext[i] / ro\n",
        "\n",
        "        for to in ves:\n",
        "            V_to = left[to][0]\n",
        "            Q_to = left[to][1]\n",
        "\n",
        "            # mass\n",
        "            V_i -= V_to\n",
        "\n",
        "            # momentum\n",
        "            moment_i -= Q_to**2 / 2 / Sq[to]**2 + V_to / Ext[to] / ro\n",
        "\n",
        "        err += [V_i, moment_i]\n",
        "  return np.array(residuals)\n",
        "  '''"
      ],
      "metadata": {
        "id": "yelwCusLtQ4A"
      },
      "execution_count": null,
      "outputs": []
    },
    {
      "cell_type": "code",
      "source": [
        "\n",
        "# Граф\n",
        "Graph = [[1], [2], [3], [4], [0]]\n",
        "\n",
        "avg_normal_params = np.array([[7, 12.5, 12.5, 2.025, 2.025],\n",
        "                              [510.55, 98.15, 631.85, 166.9, 166.9], \n",
        "                              [0.0215, 0.07, 0.06, 0.15, 0.27]])\n",
        "\n",
        "full_ranges = np.array([[[3, 10], [3, 21], [3, 21], [0, 15], [0, 15]], \n",
        "                        [[78.5, 1590.4], [0.5, 491], [0.5, 3849], [0.5, 1257], [0, 1591]],\n",
        "                        [[0, 0.1], [0, 0.5], [0, 0.5], [0, 0.6], [0, 0.6]]])\n",
        "\n",
        "def dV(Q):\n",
        "    return Q\n",
        "\n",
        "\n",
        "def dQ(V, Q, R=10, I=0.0003, C=10):\n",
        "    return -Q * R / I - V / I / C\n",
        "\n",
        "\n",
        "def system_i(t, var, i, Res, Ext):\n",
        "    V, Q = var\n",
        "    R, I, C = Res[i], 0.1, Ext[i]\n",
        "    \n",
        "    return np.array([dV(Q), dQ(V, Q, R, I, C)])\n",
        "\n",
        "def full_system(t, var, params=avg_normal_params):\n",
        "    Res, Sq, Ext = params\n",
        "    res = []\n",
        "    #print('var', var)\n",
        "    for i in range(0, len(var), 2):\n",
        "        v = var[i:i+2]\n",
        "        #print('v', v)\n",
        "        res.append(system_i(t, v, i // 2, Res, Ext))\n",
        "        \n",
        "    return np.array(res).flatten()\n",
        "\n",
        "def error(left, right,\n",
        "          params=avg_normal_params,\n",
        "          ro=1.05):\n",
        "    \"\"\"\n",
        "    1. Mass conservation\n",
        "    2. Momentum conservation\n",
        "    \"\"\"\n",
        "    Res, Sq, Ext = params\n",
        "    left = left.reshape((len(Graph), -1))\n",
        "    right = right.reshape((len(Graph), -1))\n",
        "    err = []\n",
        "\n",
        "    for i, ves in enumerate(Graph):\n",
        "        V_i = right[i][0]\n",
        "        Q_i = right[i][1]\n",
        "        moment_i = Q_i**2 / 2 / Sq[i]**2 + V_i / Ext[i] / ro\n",
        "\n",
        "        for to in ves:\n",
        "            V_to = left[to][0]\n",
        "            Q_to = left[to][1]\n",
        "\n",
        "            # mass\n",
        "            V_i -= V_to\n",
        "\n",
        "            # momentum\n",
        "            moment_i -= Q_to**2 / 2 / Sq[to]**2 + V_to / Ext[to] / ro\n",
        "\n",
        "        err += [V_i, moment_i]\n",
        "\n",
        "    return np.array(err)    "
      ],
      "metadata": {
        "id": "p8rMA5tOiZiP"
      },
      "execution_count": null,
      "outputs": []
    },
    {
      "cell_type": "code",
      "source": [
        "init = [0]\n",
        "approx = np.zeros(len(Graph * 2)) #[0, 0, 0, 0, 0]\n",
        "step = 0.01\n",
        "steps, y= shooting(approx, full_system, 0, 1 + step, step, init, 1e-5, error)\n",
        "print('num_steps ', steps)\n"
      ],
      "metadata": {
        "id": "W7zZsgM8kQSA"
      },
      "execution_count": null,
      "outputs": []
    },
    {
      "cell_type": "code",
      "source": [
        "import numpy as np\n",
        "def shoot(t0, t1, \n",
        "          y_init = np.random.uniform(1, 5, len(Graph)*2),\n",
        "          system = full_system,\n",
        "          params = avg_normal_params,\n",
        "          solver = Runge_Kutta,\n",
        "          error = error,\n",
        "          delta = 10**(-4),\n",
        "          debug = False,\n",
        "          step=0.001):\n",
        "\n",
        "    t = (t1 - t0) / 2\n",
        "    yt = y_init.copy()\n",
        "    \n",
        "    eps = 10**(-4)\n",
        "    \n",
        "    cnt = 0\n",
        "    while True:\n",
        "        \n",
        "        left = solver(t, t0, yt, system, -step)\n",
        "        right = solver(t, t1, yt, system, step)\n",
        "        err = error(left, right, params)\n",
        "        \n",
        "        # Converged\n",
        "        if np.all(abs(err) < delta):\n",
        "            cnt += 1\n",
        "            print(f'Converged in {cnt} iterations', end='')\n",
        "            break\n",
        "        \n",
        "        # find Jacobian and its determinant\n",
        "        J = np.empty((len(err), len(yt)))\n",
        "        for i in range(len(yt)):\n",
        "            yi = yt.copy()\n",
        "            yi[i] += eps\n",
        "            \n",
        "            left = solver(t, t0, yi, system, -step)\n",
        "            right = solver(t, t1, yi, system, step)\n",
        "            res = error(left, right, params)\n",
        "            \n",
        "            J[:, i] = (res - err) / eps\n",
        "        \n",
        "        D = det(J)\n",
        "        \n",
        "        print('J', J)\n",
        "\n",
        "        # Critical point\n",
        "        if abs(D) < 10**(-10):\n",
        "            cnt += 1\n",
        "            print(f'Critical point found in {cnt} iterations | Error = {np.round(err, 3)}')\n",
        "            break\n",
        "        \n",
        "        # Update yt and calculate new error \n",
        "        yt -= np.dot(np.linalg.inv(J),  err)\n",
        "        \n",
        "    \n",
        "        # Iteration limit exceeded\n",
        "        cnt += 1\n",
        "        if cnt == 30:\n",
        "            return np.nan\n",
        "\n",
        "        if debug:\n",
        "            print(cnt, D)\n",
        "            \n",
        "    D = round(D, 4)\n",
        "\n",
        "    if debug:\n",
        "        return cnt, yt, D\n",
        "    \n",
        "    return D\n",
        "   "
      ],
      "metadata": {
        "id": "PtrDT3eSsd0H"
      },
      "execution_count": null,
      "outputs": []
    },
    {
      "cell_type": "code",
      "source": [
        "shoot(0,1)"
      ],
      "metadata": {
        "id": "3BB34ZqtoT7n"
      },
      "execution_count": null,
      "outputs": []
    },
    {
      "cell_type": "code",
      "source": [
        "\n",
        "\n",
        "\n",
        "\n",
        "\n",
        "\n",
        "\n",
        "\n",
        "\n",
        "\n",
        "\n",
        "\n",
        "\n",
        "\n",
        "\n",
        "\n",
        "\n",
        "\n",
        "\n",
        "\n",
        "\n",
        "\n",
        "\n",
        "\n",
        "\n",
        "\n",
        "\n",
        "\n",
        "\n",
        "\n",
        "\n",
        "\n",
        "\n",
        "\n",
        "\n",
        "\n",
        "\n"
      ],
      "metadata": {
        "id": "iYyfsqHHoqhc"
      },
      "execution_count": null,
      "outputs": []
    }
  ]
}
